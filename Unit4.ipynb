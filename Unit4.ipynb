{
 "cells": [
  {
   "cell_type": "markdown",
   "id": "6adf0d40",
   "metadata": {},
   "source": [
    "# Functions\n",
    "\n",
    "### Main Learning Objectives:\n",
    "\n",
    "1. Utilize functions by passing arguments and collecting return values.\n",
    "\n",
    "2. Implement functions that accept specified parameters.\n",
    "\n",
    "3. Implement functions that provide specified return values.\n",
    "\n",
    "4. Identify the scope of variables in functions."
   ]
  }
 ],
 "metadata": {
  "language_info": {
   "name": "python"
  }
 },
 "nbformat": 4,
 "nbformat_minor": 5
}
