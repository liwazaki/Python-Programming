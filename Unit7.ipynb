{
 "cells": [
  {
   "cell_type": "markdown",
   "id": "fb4141ed",
   "metadata": {},
   "source": [
    "# Sequences (mostly Lists and Tuples)"
   ]
  }
 ],
 "metadata": {
  "language_info": {
   "name": "python"
  }
 },
 "nbformat": 4,
 "nbformat_minor": 5
}
