{
 "cells": [
  {
   "cell_type": "markdown",
   "id": "4e162d24",
   "metadata": {},
   "source": [
    "# Strings and File IO"
   ]
  }
 ],
 "metadata": {
  "language_info": {
   "name": "python"
  }
 },
 "nbformat": 4,
 "nbformat_minor": 5
}
