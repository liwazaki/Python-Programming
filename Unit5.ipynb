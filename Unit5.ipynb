{
 "cells": [
  {
   "cell_type": "markdown",
   "id": "7a0ebb2d",
   "metadata": {},
   "source": [
    "# Turtle Graphics and Review\n",
    "\n",
    "1. Implementing sequence structures\n",
    "\n",
    "2. Implementing repetition structures\n",
    "\n",
    "3. Implementing functions"
   ]
  }
 ],
 "metadata": {
  "language_info": {
   "name": "python"
  }
 },
 "nbformat": 4,
 "nbformat_minor": 5
}
