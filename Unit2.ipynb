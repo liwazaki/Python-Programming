{
 "cells": [
  {
   "cell_type": "markdown",
   "id": "63616823",
   "metadata": {},
   "source": [
    "# Boolean Logic and Decision Structures\n",
    "\n",
    "### Main Learning Objectives:\n",
    "\n",
    "1. Distinguish between and utilize the Boolean and None data types.\n",
    "\n",
    "2. Implement Boolean logic expressions using and, or, and not operators.\n",
    "\n",
    "3. Implement Boolean logic expressions using relational operators.\n",
    "\n",
    "4. Implement single-alternative, dual-alternative, and nested decision structures using if, if-else, and if-elif-else statements."
   ]
  }
 ],
 "metadata": {
  "language_info": {
   "name": "python"
  }
 },
 "nbformat": 4,
 "nbformat_minor": 5
}
