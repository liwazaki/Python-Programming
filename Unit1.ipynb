{
 "cells": [
  {
   "cell_type": "markdown",
   "id": "f8a2c8bb",
   "metadata": {},
   "source": [
    "# Introduction to Python\n",
    "\n",
    "### Main Learning Objectives:\n",
    "\n",
    "1. Distinguish between and utilize script mode and interactive mode.\n",
    "\n",
    "2. Implement operators in expressions to express mathematical equations.\n",
    "\n",
    "3. Assign variables.\n",
    "\n",
    "4. Distinguish between and utilize the integer, float, and string data types.\n",
    "\n",
    "5. Generate input and output statements.\n",
    "\n",
    "6. Format strings using f-strings."
   ]
  },
  {
   "cell_type": "markdown",
   "id": "f2c4b3da",
   "metadata": {},
   "source": [
    "## Runnning Python\n",
    "\n",
    "When running it in terminal the python interactive prompt \"***>>>***\"\n",
    "- indicates the interpreter is wating for a statement to by typed\n",
    "- comes back after the previous statement is done/executed\n",
    "- can exit when type exit()\n",
    "- the statements done are not saved"
   ]
  },
  {
   "cell_type": "code",
   "execution_count": 2,
   "id": "53b69173",
   "metadata": {},
   "outputs": [
    {
     "ename": "SyntaxError",
     "evalue": "invalid syntax (<ipython-input-2-52d779fed05a>, line 3)",
     "output_type": "error",
     "traceback": [
      "\u001b[0;36m  File \u001b[0;32m\"<ipython-input-2-52d779fed05a>\"\u001b[0;36m, line \u001b[0;32m3\u001b[0m\n\u001b[0;31m    hello world\u001b[0m\n\u001b[0m              ^\u001b[0m\n\u001b[0;31mSyntaxError\u001b[0m\u001b[0;31m:\u001b[0m invalid syntax\n"
     ]
    }
   ],
   "source": [
    "#example of a Python REPL session\n",
    ">>> print('hello world')\n",
    "hello world\n",
    ">>> exit()"
   ]
  },
  {
   "cell_type": "code",
   "execution_count": null,
   "id": "eeaec1df",
   "metadata": {},
   "outputs": [
    {
     "name": "stdout",
     "output_type": "stream",
     "text": [
      "Hello World!\n"
     ]
    }
   ],
   "source": [
    "print('Hello World!')"
   ]
  },
  {
   "cell_type": "markdown",
   "id": "d950254e",
   "metadata": {},
   "source": [
    "## Operators\n",
    "\n",
    "Most commonly used operators = **math operators**. **Math operators** performs a calculation and **operands** are the values an operator acts on.\n",
    "\n",
    "**Common Math Operators:**\n",
    "\n",
    "| Math | Operator | \n",
    "|----------|:-------:|\n",
    "| Addition | + | \n",
    "| Subtraction | - | \n",
    "| Multiplication | * |\n",
    "| Float Division | / |\n",
    "| Exponentiation | ** |\n",
    "| Floor Division | // |\n",
    "| Modulus (remainder) | % |\n",
    "\n",
    "Exponentiation > used when we want to raise some number to a power\n",
    "\n",
    "Floor Division > result is always rounded down to the next whole integer\n",
    "\n",
    "Modulus Operator > find the remainder of the division of 2 numbers\n",
    "\n",
    "**Operator Precedence**\n",
    "\n",
    "- order of operations is determined by precedence\n",
    "- higher precedence operators execute first\n",
    "\n",
    "1. parentheses()\n",
    "2. exponents **\n",
    "3. multiplication * , division / and // , and modulus %\n",
    "4. addition + and subtraction -\n",
    "\n",
    "- equal precedence operators execute from left to right\n"
   ]
  },
  {
   "cell_type": "markdown",
   "id": "85d955f4",
   "metadata": {},
   "source": [
    "## Variables \n",
    "\n",
    "**Variable:** a name that referecnes a value stored in memory\n",
    "- handles for your data\n",
    "- used to access and manipulate data in memory\n",
    "- can point to any type of data\n",
    "- can only be used after being assigned\n",
    "\n",
    "**Assignment Operator:** the equal sign \"=\"\n",
    "\n",
    "**Expression:** anything that results in a value (example: 1+2)\n",
    "\n",
    "**Literal:** a value written directly in a program\n",
    "\n",
    "**Assignment Statement:** sets the value that a variable refers to \n",
    "- general form is: variable = expression\n",
    "- example: age = 21 (variable, assignment operator, literal)\n",
    "\n",
    "**Function:** piece of prewritten code that performs an operation\n",
    "\n",
    "**Argument:** data given to a function\n",
    "- a variable can be passed as an argument to a function\n",
    "\n",
    "The left side of an assignment statement must be a variable\n"
   ]
  },
  {
   "cell_type": "code",
   "execution_count": 9,
   "id": "fac2fd5c",
   "metadata": {},
   "outputs": [
    {
     "ename": "SyntaxError",
     "evalue": "can't assign to literal (<ipython-input-9-1513e8974574>, line 1)",
     "output_type": "error",
     "traceback": [
      "\u001b[0;36m  File \u001b[0;32m\"<ipython-input-9-1513e8974574>\"\u001b[0;36m, line \u001b[0;32m1\u001b[0m\n\u001b[0;31m    1 = a\u001b[0m\n\u001b[0;31mSyntaxError\u001b[0m\u001b[0;31m:\u001b[0m can't assign to literal\n"
     ]
    }
   ],
   "source": [
    "1 = a\n",
    "print(a)"
   ]
  },
  {
   "cell_type": "code",
   "execution_count": 8,
   "id": "8faf95cd",
   "metadata": {},
   "outputs": [
    {
     "name": "stdout",
     "output_type": "stream",
     "text": [
      "1\n"
     ]
    }
   ],
   "source": [
    "a = 1\n",
    "print(a)"
   ]
  },
  {
   "cell_type": "markdown",
   "id": "96773955",
   "metadata": {},
   "source": [
    "Multiple assignment matches variables and values one-for-one"
   ]
  },
  {
   "cell_type": "code",
   "execution_count": 7,
   "id": "5b28ed89",
   "metadata": {},
   "outputs": [
    {
     "name": "stdout",
     "output_type": "stream",
     "text": [
      "(5, 7, 9)\n"
     ]
    }
   ],
   "source": [
    "a, b, c = 5, 7, 9\n",
    "print(a, b, c)"
   ]
  },
  {
   "cell_type": "markdown",
   "id": "0dc8f147",
   "metadata": {},
   "source": [
    "Operators work with variables just like they do with values (as stated above make sure to have the left side of the assignment to be the variable)"
   ]
  },
  {
   "cell_type": "code",
   "execution_count": 12,
   "id": "efa1abf6",
   "metadata": {},
   "outputs": [
    {
     "name": "stdout",
     "output_type": "stream",
     "text": [
      "(12, 2, 10)\n"
     ]
    }
   ],
   "source": [
    "a, b, c = 5, 7, 9\n",
    "d = a + b\n",
    "e = c % b\n",
    "f = c % b * a\n",
    "print(d, e, f)"
   ]
  },
  {
   "cell_type": "markdown",
   "id": "b05d2fa4",
   "metadata": {},
   "source": [
    "A variable can appear on both sides of an assignment\n",
    "\n",
    "| Initial | Translation | \n",
    "|----------|:-------:|\n",
    "| a += 3 | a = a + 3 | \n",
    "| a -= 3 | a = a - 3 | \n",
    "| a *= 3 | a = a * 3 |\n",
    "| a /= 3 | a = a / 3 |\n",
    "| a **= 3 | a = a ** 3 |\n",
    "| a //= 3 | a = a // 3 |\n",
    "| a %= 3 | a = a % 3 |\n",
    "\n",
    "**python does not have ++ or - operators**"
   ]
  },
  {
   "cell_type": "markdown",
   "id": "ce2d535b",
   "metadata": {},
   "source": [
    "## Types\n",
    "\n",
    "The **type()** function returns the type of its argument\n",
    "\n",
    "**Basic Types:**\n",
    "\n",
    "**INT** integers (aka 1, 35, -1)\n",
    "\n",
    "int() returns its argument as an integer (it cannot handle strings with decimal points)\n",
    "\n",
    "**FLOAT** floating point numbers (aka 3.14, 10.0, 1e5)\n",
    "\n",
    "float() returns its arguemnt as a float (can only handle integers and numeric strings)\n",
    "\n",
    "**STR** character strings, anything enclosed in single, double, triple quotes (aka \"eggs\", \"spam\", \"3\")\n",
    "\n",
    "str() returns its argument as a string"
   ]
  },
  {
   "cell_type": "code",
   "execution_count": 22,
   "id": "938e3284",
   "metadata": {},
   "outputs": [
    {
     "data": {
      "text/plain": [
       "int"
      ]
     },
     "execution_count": 22,
     "metadata": {},
     "output_type": "execute_result"
    }
   ],
   "source": [
    "type(5)"
   ]
  },
  {
   "cell_type": "code",
   "execution_count": 23,
   "id": "2ed70d3c",
   "metadata": {},
   "outputs": [
    {
     "data": {
      "text/plain": [
       "float"
      ]
     },
     "execution_count": 23,
     "metadata": {},
     "output_type": "execute_result"
    }
   ],
   "source": [
    "type(3.14)"
   ]
  },
  {
   "cell_type": "code",
   "execution_count": 24,
   "id": "59a7f1e6",
   "metadata": {},
   "outputs": [
    {
     "data": {
      "text/plain": [
       "str"
      ]
     },
     "execution_count": 24,
     "metadata": {},
     "output_type": "execute_result"
    }
   ],
   "source": [
    "type('eggs')"
   ]
  },
  {
   "cell_type": "code",
   "execution_count": 25,
   "id": "1566736d",
   "metadata": {},
   "outputs": [
    {
     "data": {
      "text/plain": [
       "str"
      ]
     },
     "execution_count": 25,
     "metadata": {},
     "output_type": "execute_result"
    }
   ],
   "source": [
    "type(\"spam\")"
   ]
  },
  {
   "cell_type": "code",
   "execution_count": 26,
   "id": "1ef538b5",
   "metadata": {},
   "outputs": [
    {
     "data": {
      "text/plain": [
       "str"
      ]
     },
     "execution_count": 26,
     "metadata": {},
     "output_type": "execute_result"
    }
   ],
   "source": [
    "type('''3''')"
   ]
  },
  {
   "cell_type": "markdown",
   "id": "7a8cd5fa",
   "metadata": {},
   "source": [
    "Going back to variables....\n",
    "- they have the same type as the value they rfer to\n",
    "- can refer to a value of any type\n",
    "- can change their value and type at anytime\n",
    "\n",
    "**Quotes in Strings**\n",
    "- single quotes must be escaped within single quotes\n",
    "- double quotes must be escaped within double quotes\n",
    "- use backslash \\ to escape quotation marks\n",
    "  \n",
    "![QuotesStringsTerminal](\"img/quotesstrings.png\")"
   ]
  },
  {
   "cell_type": "markdown",
   "id": "c03f3e42",
   "metadata": {},
   "source": [
    "- triple quoted strings can contain both single and double quotes\n",
    "- triple quoted strings can span multiple lines\n",
    "- can enter special character newline '\\n' and tab '\\t'\n",
    "- strings can be combined with the + operator"
   ]
  }
 ],
 "metadata": {
  "kernelspec": {
   "display_name": "Python 3",
   "language": "python",
   "name": "python3"
  },
  "language_info": {
   "codemirror_mode": {
    "name": "ipython",
    "version": 2
   },
   "file_extension": ".py",
   "mimetype": "text/x-python",
   "name": "python",
   "nbconvert_exporter": "python",
   "pygments_lexer": "ipython2",
   "version": "2.7.18"
  }
 },
 "nbformat": 4,
 "nbformat_minor": 5
}
