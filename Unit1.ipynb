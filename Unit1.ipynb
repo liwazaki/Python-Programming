{
 "cells": [
  {
   "cell_type": "markdown",
   "id": "f8a2c8bb",
   "metadata": {},
   "source": [
    "# Introduction to Python\n",
    "\n",
    "### Main Learning Objectives:\n",
    "\n",
    "1. Distinguish between and utilize script mode and interactive mode.\n",
    "\n",
    "2. Implement operators in expressions to express mathematical equations.\n",
    "\n",
    "3. Assign variables.\n",
    "\n",
    "4. Distinguish between and utilize the integer, float, and string data types.\n",
    "\n",
    "5. Generate input and output statements.\n",
    "\n",
    "6. Format strings using f-strings."
   ]
  },
  {
   "cell_type": "markdown",
   "id": "f2c4b3da",
   "metadata": {},
   "source": [
    "## Runnning Python\n",
    "\n",
    "When running it in terminal the python interactive prompt \"***>>>***\"\n",
    "- indicates the interpreter is wating for a statement to by typed\n",
    "- comes back after the previous statement is done/executed\n",
    "- can exit when type exit()\n",
    "- the statements done are not saved"
   ]
  },
  {
   "cell_type": "code",
   "execution_count": 2,
   "id": "53b69173",
   "metadata": {},
   "outputs": [
    {
     "ename": "SyntaxError",
     "evalue": "invalid syntax (<ipython-input-2-52d779fed05a>, line 3)",
     "output_type": "error",
     "traceback": [
      "\u001b[0;36m  File \u001b[0;32m\"<ipython-input-2-52d779fed05a>\"\u001b[0;36m, line \u001b[0;32m3\u001b[0m\n\u001b[0;31m    hello world\u001b[0m\n\u001b[0m              ^\u001b[0m\n\u001b[0;31mSyntaxError\u001b[0m\u001b[0;31m:\u001b[0m invalid syntax\n"
     ]
    }
   ],
   "source": [
    "#example of a Python REPL session\n",
    ">>> print('hello world')\n",
    "hello world\n",
    ">>> exit()"
   ]
  },
  {
   "cell_type": "code",
   "execution_count": null,
   "id": "eeaec1df",
   "metadata": {},
   "outputs": [
    {
     "name": "stdout",
     "output_type": "stream",
     "text": [
      "Hello World!\n"
     ]
    }
   ],
   "source": [
    "print('Hello World!')"
   ]
  },
  {
   "cell_type": "markdown",
   "id": "d950254e",
   "metadata": {},
   "source": [
    "## Operators\n",
    "\n",
    "Most commonly used operators = **math operators**. **Math operators** performs a calculation and **operands** are the values an operator acts on.\n",
    "\n",
    "**Common Math Operators:**\n",
    "\n",
    "| Math | Operator | \n",
    "|----------|:-------:|\n",
    "| Addition | + | \n",
    "| Subtraction | - | \n",
    "| Multiplication | * |\n",
    "| Float Division | / |\n",
    "| Exponentiation | ** |\n",
    "| Floor Division | // |\n",
    "| Modulus (remainder) | % |\n",
    "\n",
    "Exponentiation > used when we want to raise some number to a power\n",
    "\n",
    "Floor Division > result is always rounded down to the next whole integer\n",
    "\n",
    "Modulus Operator > find the remainder of the division of 2 numbers\n",
    "\n",
    "**Operator Precedence**\n",
    "\n",
    "- order of operations is determined by precedence\n",
    "- higher precedence operators execute first\n",
    "\n",
    "1. parentheses()\n",
    "2. exponents **\n",
    "3. multiplication * , division / and // , and modulus %\n",
    "4. addition + and subtraction -\n",
    "\n",
    "- equal precedence operators execute from left to right\n"
   ]
  },
  {
   "cell_type": "markdown",
   "id": "85d955f4",
   "metadata": {},
   "source": [
    "## Variables \n",
    "\n",
    "**Variable:** a name that referecnes a value stored in memory\n",
    "- handles for your data\n",
    "- used to access and manipulate data in memory\n",
    "- can point to any type of data\n",
    "\n",
    "**Assignment Operator:** the equal sign \"=\"\n",
    "\n",
    "**Expression:** anything that results in a value (example: 1+2)\n",
    "\n",
    "**Literal:** a value written directly in a program\n",
    "\n",
    "**Assignment Statement:** sets the value that a variable refers to \n",
    "- general form is: variable = expression\n",
    "- example: age = 21 (variable, assignment operator, literal)\n"
   ]
  }
 ],
 "metadata": {
  "kernelspec": {
   "display_name": "Python 3",
   "language": "python",
   "name": "python3"
  },
  "language_info": {
   "codemirror_mode": {
    "name": "ipython",
    "version": 2
   },
   "file_extension": ".py",
   "mimetype": "text/x-python",
   "name": "python",
   "nbconvert_exporter": "python",
   "pygments_lexer": "ipython2",
   "version": "2.7.18"
  }
 },
 "nbformat": 4,
 "nbformat_minor": 5
}
