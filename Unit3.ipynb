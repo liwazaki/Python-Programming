{
 "cells": [
  {
   "cell_type": "markdown",
   "id": "76e3ec25",
   "metadata": {},
   "source": [
    "# Repetition Structures\n",
    "\n",
    "### Main Learning Objectives:\n",
    "\n",
    "1. Distinguish between definite and indefinite loops.\n",
    "\n",
    "2. Implement definite and indefinite loops using while statements.\n",
    "\n",
    "3. Implement definite loops using for statements.\n",
    "\n",
    "4. Implement nested loops.\n",
    "\n",
    "5. Control program flow within loops using break and continue statements."
   ]
  }
 ],
 "metadata": {
  "language_info": {
   "name": "python"
  }
 },
 "nbformat": 4,
 "nbformat_minor": 5
}
